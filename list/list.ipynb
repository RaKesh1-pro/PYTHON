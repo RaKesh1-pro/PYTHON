{
 "cells": [
  {
   "attachments": {},
   "cell_type": "markdown",
   "metadata": {},
   "source": [
    "## Write a python program which reads “n” number of integers from the user and generates a separate list containing even and odd numbers.\n"
   ]
  },
  {
   "cell_type": "code",
   "execution_count": 9,
   "metadata": {},
   "outputs": [
    {
     "name": "stdout",
     "output_type": "stream",
     "text": [
      "Enter the numbers to be added in list\n",
      "[4, 7, 8, 9, 5, 6, 1, 2]\n",
      "[4, 8, 6, 2]\n",
      "[7, 9, 5, 1]\n"
     ]
    }
   ],
   "source": [
    "n=int (input(\"Enter the number to be entered\"))\n",
    "number=[]\n",
    "print(\"Enter the numbers to be added in list\")\n",
    "for i in range(n):\n",
    "    num=int(input())\n",
    "    number.append(num)\n",
    "print(number)    \n",
    "even=[]\n",
    "odd=[]\n",
    "for num in number:\n",
    "    if num%2==0:\n",
    "        even.append(num)\n",
    "    else:\n",
    "        odd.append(num)\n",
    "print(even)\n",
    "print(odd)        \n"
   ]
  },
  {
   "attachments": {},
   "cell_type": "markdown",
   "metadata": {},
   "source": [
    "## The python program should read the list of 5 numbers, and generate the new list which contains the factorial of each number in the given list. \n"
   ]
  },
  {
   "cell_type": "code",
   "execution_count": 17,
   "metadata": {},
   "outputs": [
    {
     "name": "stdout",
     "output_type": "stream",
     "text": [
      "The number of elements to be added is: 5\n",
      "Enter the numbers to be added in list\n",
      "[5, 1, 2, 3, 4]\n",
      "[120, 1, 2, 6, 24]\n"
     ]
    }
   ],
   "source": [
    "def fac(n):\n",
    "        if n==0 or n==1:\n",
    "             return 1\n",
    "        else:\n",
    "             return n*fac(n-1)\n",
    "\n",
    "print(\"The number of elements to be added is:\",n)\n",
    "list=[]\n",
    "print(\"Enter the numbers to be added in list\")\n",
    "for i in range (5):\n",
    "    num=int(input())\n",
    "    list.append(num)\n",
    "print(list) \n",
    "factorial=[]   \n",
    "for num in list:\n",
    "    fact=fac(num)\n",
    "    factorial.append(fact)\n",
    "print(factorial)\n",
    "\n",
    "\n"
   ]
  },
  {
   "attachments": {},
   "cell_type": "markdown",
   "metadata": {},
   "source": [
    "## Write a python program that reads integers from the user and stores them in a list. Your program should continue reading values until the user enters 0. Then it should display all of the values entered by the user (except for the 0) in ascending order (The list itself to be sorted).\n"
   ]
  },
  {
   "cell_type": "code",
   "execution_count": null,
   "metadata": {},
   "outputs": [],
   "source": [
    "print(\"Enter the numbers\")\n",
    "list=[]\n",
    "while(True):\n",
    "    num=int(input())\n",
    "    if num==0:\n",
    "        break\n",
    "list.append(num) \n",
    "print(list)   \n",
    "\n"
   ]
  },
  {
   "cell_type": "code",
   "execution_count": null,
   "metadata": {},
   "outputs": [],
   "source": []
  }
 ],
 "metadata": {
  "kernelspec": {
   "display_name": "Python 3",
   "language": "python",
   "name": "python3"
  },
  "language_info": {
   "codemirror_mode": {
    "name": "ipython",
    "version": 3
   },
   "file_extension": ".py",
   "mimetype": "text/x-python",
   "name": "python",
   "nbconvert_exporter": "python",
   "pygments_lexer": "ipython3",
   "version": "3.10.8"
  },
  "orig_nbformat": 4
 },
 "nbformat": 4,
 "nbformat_minor": 2
}
