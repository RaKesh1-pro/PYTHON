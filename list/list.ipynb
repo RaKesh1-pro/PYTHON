{
 "cells": [
  {
   "attachments": {},
   "cell_type": "markdown",
   "metadata": {},
   "source": [
    "## Write a python program which reads “n” number of integers from the user and generates a separate list containing even and odd numbers.\n"
   ]
  },
  {
   "cell_type": "code",
   "execution_count": 9,
   "metadata": {},
   "outputs": [
    {
     "name": "stdout",
     "output_type": "stream",
     "text": [
      "Enter the numbers to be added in list\n",
      "[4, 7, 8, 9, 5, 6, 1, 2]\n",
      "[4, 8, 6, 2]\n",
      "[7, 9, 5, 1]\n"
     ]
    }
   ],
   "source": [
    "n=int (input(\"Enter the number to be entered\"))\n",
    "number=[]\n",
    "print(\"Enter the numbers to be added in list\")\n",
    "for i in range(n):\n",
    "    num=int(input())\n",
    "    number.append(num)\n",
    "print(number)    \n",
    "even=[]\n",
    "odd=[]\n",
    "for num in number:\n",
    "    if num%2==0:\n",
    "        even.append(num)\n",
    "    else:\n",
    "        odd.append(num)\n",
    "print(even)\n",
    "print(odd)        \n"
   ]
  },
  {
   "attachments": {},
   "cell_type": "markdown",
   "metadata": {},
   "source": [
    "## The python program should read the list of 5 numbers, and generate the new list which contains the factorial of each number in the given list. \n"
   ]
  },
  {
   "cell_type": "code",
   "execution_count": 17,
   "metadata": {},
   "outputs": [
    {
     "name": "stdout",
     "output_type": "stream",
     "text": [
      "The number of elements to be added is: 5\n",
      "Enter the numbers to be added in list\n",
      "[5, 1, 2, 3, 4]\n",
      "[120, 1, 2, 6, 24]\n"
     ]
    }
   ],
   "source": [
    "def fac(n):\n",
    "        if n==0 or n==1:\n",
    "             return 1\n",
    "        else:\n",
    "             return n*fac(n-1)\n",
    "\n",
    "print(\"The number of elements to be added is:\",n)\n",
    "list=[]\n",
    "print(\"Enter the numbers to be added in list\")\n",
    "for i in range (5):\n",
    "    num=int(input())\n",
    "    list.append(num)\n",
    "print(list) \n",
    "factorial=[]   \n",
    "for num in list:\n",
    "    fact=fac(num)\n",
    "    factorial.append(fact)\n",
    "print(factorial)\n",
    "\n",
    "\n"
   ]
  },
  {
   "attachments": {},
   "cell_type": "markdown",
   "metadata": {},
   "source": [
    "## Write a python program that reads integers from the user and stores them in a list. Your program should continue reading values until the user enters 0. Then it should display all of the values entered by the user (except for the 0) in ascending order (The list itself to be sorted).\n"
   ]
  },
  {
   "cell_type": "code",
   "execution_count": 7,
   "metadata": {},
   "outputs": [
    {
     "name": "stdout",
     "output_type": "stream",
     "text": [
      "Enter the numbers\n",
      "7\n",
      "8\n",
      "4\n",
      "9\n",
      "5\n",
      "2\n",
      "6\n",
      "1\n",
      "2\n",
      "3\n",
      "0\n",
      "[7, 8, 4, 9, 5, 2, 6, 1, 2, 3]\n",
      "The sorted list is: [1, 2, 2, 3, 4, 5, 6, 7, 8, 9]\n"
     ]
    }
   ],
   "source": [
    "print(\"Enter the numbers\")\n",
    "list=[]\n",
    "while(True):\n",
    "    num=int(input())\n",
    "    print(num)\n",
    "    if num==0:\n",
    "        break\n",
    "    list.append(num) \n",
    "print(list)  \n",
    "list.sort()\n",
    "print(\"The sorted list is:\",list) \n",
    "\n"
   ]
  },
  {
   "attachments": {},
   "cell_type": "markdown",
   "metadata": {},
   "source": [
    "## Write a python program that reads the string, encode each character in a string using ascii values and store the ascii value in the list. The program reads the strings from the user, and stores the individual characters ascii value to the list\n",
    "Sample Input\n",
    "Enter the string : Science\n",
    "Sample Output\n",
    "Encode the List - [83, 99, 105, 101, 110, 99, 101]\n"
   ]
  },
  {
   "cell_type": "code",
   "execution_count": 15,
   "metadata": {},
   "outputs": [
    {
     "name": "stdout",
     "output_type": "stream",
     "text": [
      "['S', 'c', 'i', 'e', 'n', 'c', 'e']\n",
      "[83, 99, 105, 101, 110, 99, 101]\n"
     ]
    }
   ],
   "source": [
    "string=str(input(\"Enter the string:\"))\n",
    "list=[]\n",
    "l=[]\n",
    "for i in string:\n",
    "     ascii=ord(i)\n",
    "     list.append(ascii)\n",
    "     l.append(i)\n",
    "print(l)     \n",
    "print(list)\n",
    "\n",
    "\n",
    "\n",
    "\n"
   ]
  },
  {
   "attachments": {},
   "cell_type": "markdown",
   "metadata": {},
   "source": [
    "## Write a python program which reads “n” words from the user, store it in the list and display the length of each word and display the longest word in the list."
   ]
  },
  {
   "cell_type": "code",
   "execution_count": 68,
   "metadata": {},
   "outputs": [
    {
     "name": "stdout",
     "output_type": "stream",
     "text": [
      "['rama', 'hariom', 'rahmate', 'ram', 'rajababu']\n",
      "Length of each word is:\n",
      "rama : 4\n",
      "hariom : 6\n",
      "rahmate : 7\n",
      "ram : 3\n",
      "rajababu : 8\n",
      "The longest word is: rajababu\n"
     ]
    }
   ],
   "source": [
    "num=int(input(\"Enter the number of words to be entered:\"))\n",
    "list=[]\n",
    "for i in range(0,num):\n",
    "    string=str(input())\n",
    "    list.append(string)\n",
    "print(list)\n",
    "print(\"Length of each word is:\")\n",
    "for string in (list):\n",
    "     length=len(string)\n",
    "     print(string,\":\",length)\n",
    "long=list[i]\n",
    "for string in (list):\n",
    "     if len(string)>len(long):\n",
    "        long=string\n",
    "print(\"The longest word is:\",long)     \n",
    "       \n",
    "\n",
    "     \n",
    "\n",
    "         \n",
    "     "
   ]
  },
  {
   "attachments": {},
   "cell_type": "markdown",
   "metadata": {},
   "source": [
    "## A program should read “n” positive integers from the user and append it to the list, and if the list contains prime numbers return “True” and number of prime numbers, else “False”.\n"
   ]
  },
  {
   "cell_type": "code",
   "execution_count": 8,
   "metadata": {},
   "outputs": [
    {
     "name": "stdout",
     "output_type": "stream",
     "text": [
      "Enter the numbers\n",
      "[1, 2, 3, 4, 5]\n"
     ]
    }
   ],
   "source": [
    "n=int(input(\"Enter the number of integers to be taken\"))\n",
    "list=[]\n",
    "print(\"Enter the numbers\")\n",
    "for i in range(n):\n",
    "    num=int(input())\n",
    "    list.append(num)\n",
    "print(list)   \n",
    "\n",
    "     "
   ]
  },
  {
   "attachments": {},
   "cell_type": "markdown",
   "metadata": {},
   "source": [
    "## Write a python program that removes duplicates from the given list and generate the new list without duplicates.\n"
   ]
  },
  {
   "cell_type": "code",
   "execution_count": 12,
   "metadata": {},
   "outputs": [
    {
     "name": "stdout",
     "output_type": "stream",
     "text": [
      "Enter the numbers\n",
      "[1, 2, 1, 2, 5]\n",
      "[1, 2, 5]\n"
     ]
    }
   ],
   "source": [
    "n==int(input(\"Enter the number of integers to be taken\"))\n",
    "list=[]\n",
    "list1=[]\n",
    "print(\"Enter the numbers\")\n",
    "for i in range(n):\n",
    "    num=int(input())\n",
    "    list.append(num)\n",
    "print(list)   \n",
    "for j in list:\n",
    "    if j not in (list1):\n",
    "        list1.append(j)\n",
    "print(list1)        "
   ]
  },
  {
   "cell_type": "code",
   "execution_count": null,
   "metadata": {},
   "outputs": [],
   "source": []
  }
 ],
 "metadata": {
  "kernelspec": {
   "display_name": "Python 3",
   "language": "python",
   "name": "python3"
  },
  "language_info": {
   "codemirror_mode": {
    "name": "ipython",
    "version": 3
   },
   "file_extension": ".py",
   "mimetype": "text/x-python",
   "name": "python",
   "nbconvert_exporter": "python",
   "pygments_lexer": "ipython3",
   "version": "3.10.8"
  },
  "orig_nbformat": 4
 },
 "nbformat": 4,
 "nbformat_minor": 2
}
