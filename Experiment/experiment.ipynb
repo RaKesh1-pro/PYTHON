{
 "cells": [
  {
   "attachments": {},
   "cell_type": "markdown",
   "metadata": {},
   "source": [
    "## Get an integer input from a user. If the number is odd, then find the factorial of the number and find the number of digits in the factorial of the number. If the number is even, then check if the given number is a palindrome or not.\n",
    "\n",
    "\n",
    "\n"
   ]
  },
  {
   "cell_type": "code",
   "execution_count": 12,
   "metadata": {},
   "outputs": [
    {
     "name": "stdout",
     "output_type": "stream",
     "text": [
      "The number is: 242\n",
      "It is even number\n",
      "It is palindrome\n"
     ]
    }
   ],
   "source": [
    "num=int(input(\"Enter the number:\"))\n",
    "print(\"The number is:\",num)\n",
    "digits=0\n",
    "fact=1\n",
    "if(num%2!=0):\n",
    "    print(\"Its odd number\")\n",
    "    for i in range(1,num+1):\n",
    "            fact=i*fact\n",
    "    print(\"The factorial of given number is:\",fact)\n",
    "    while(fact>0):\n",
    "        fact=int(fact/10)\n",
    "        digits=digits+1\n",
    "    print(\"The number of digits in factorial is:\",digits)       \n",
    "else:\n",
    "    print(\"It is even number\") \n",
    "    n=num\n",
    "    rev=0\n",
    "    while(n>0):\n",
    "        rev=rev*10+n%10\n",
    "        n=int(n/10)\n",
    "    if num==rev:\n",
    "        print(\"It is palindrome\")\n",
    "    else:\n",
    "        print(\"It is not palindrome\")    "
   ]
  },
  {
   "attachments": {},
   "cell_type": "markdown",
   "metadata": {},
   "source": [
    "## Given two strings, PRINT (YES or NO) whether the second string can be obtained from the first by deletion of none, one or more characters\n",
    "\n"
   ]
  },
  {
   "cell_type": "code",
   "execution_count": 9,
   "metadata": {},
   "outputs": [
    {
     "name": "stdout",
     "output_type": "stream",
     "text": [
      "pawan\n",
      "rakesh\n",
      "No\n"
     ]
    }
   ],
   "source": [
    "str1=str(input(\"Enter the first string:\"))\n",
    "str2=str(input(\"Enter the second string:\"))\n",
    "print(str1)\n",
    "print(str2)\n",
    "i=0\n",
    "j=0\n",
    "while i<(len(str1)) and j<(len(str2)):\n",
    "    if str1[i]==str2[j]:\n",
    "        i=i+1\n",
    "        j=j+1\n",
    "    else:\n",
    "        i=i+1    \n",
    "if j==len(str2):\n",
    "    print(\"Yes\")\n",
    "else:\n",
    "    print(\"No\")          \n"
   ]
  },
  {
   "cell_type": "code",
   "execution_count": 3,
   "metadata": {},
   "outputs": [
    {
     "name": "stdout",
     "output_type": "stream",
     "text": [
      "rakesh\n",
      "rak\n",
      "YES\n"
     ]
    }
   ],
   "source": [
    "   def can_obtain_by_deletion(string1, string2):\n",
    "    i = 0  # Index for string1\n",
    "    j = 0  # Index for string2\n",
    "\n",
    "    while i < len(string1) and j < len(string2):\n",
    "        if string1[i] == string2[j]:\n",
    "            j += 1\n",
    "        i += 1\n",
    "\n",
    "    return j == len(string2)\n",
    "\n",
    "# Read the two strings from the user\n",
    "string1 = input(\"Enter the first string: \")\n",
    "string2 = input(\"Enter the second string: \")\n",
    "print(string1)\n",
    "print(string2)\n",
    "\n",
    "# Check if string2 can be obtained from string1 by deletion\n",
    "result = can_obtain_by_deletion(string1, string2)\n",
    "\n",
    "# Print the result\n",
    "if result:\n",
    "    print(\"YES\")\n",
    "else:\n",
    "    print(\"NO\")\n"
   ]
  },
  {
   "cell_type": "code",
   "execution_count": null,
   "metadata": {},
   "outputs": [],
   "source": []
  }
 ],
 "metadata": {
  "kernelspec": {
   "display_name": "Python 3 (ipykernel)",
   "language": "python",
   "name": "python3"
  },
  "language_info": {
   "codemirror_mode": {
    "name": "ipython",
    "version": 3
   },
   "file_extension": ".py",
   "mimetype": "text/x-python",
   "name": "python",
   "nbconvert_exporter": "python",
   "pygments_lexer": "ipython3",
   "version": "3.10.8"
  },
  "orig_nbformat": 4
 },
 "nbformat": 4,
 "nbformat_minor": 2
}
