{
 "cells": [
  {
   "attachments": {},
   "cell_type": "markdown",
   "metadata": {},
   "source": [
    "## Get an integer input from a user. If the number is odd, then find the factorial of the number and find the number of digits in the factorial of the number. If the number is even, then check if the given number is a palindrome or not.\n",
    "\n",
    "\n",
    "\n"
   ]
  },
  {
   "cell_type": "code",
   "execution_count": 12,
   "metadata": {},
   "outputs": [
    {
     "name": "stdout",
     "output_type": "stream",
     "text": [
      "The number is: 242\n",
      "It is even number\n",
      "It is palindrome\n"
     ]
    }
   ],
   "source": [
    "num=int(input(\"Enter the number:\"))\n",
    "print(\"The number is:\",num)\n",
    "digits=0\n",
    "fact=1\n",
    "if(num%2!=0):\n",
    "    print(\"Its odd number\")\n",
    "    for i in range(1,num+1):\n",
    "            fact=i*fact\n",
    "    print(\"The factorial of given number is:\",fact)\n",
    "    while(fact>0):\n",
    "        fact=int(fact/10)\n",
    "        digits=digits+1\n",
    "    print(\"The number of digits in factorial is:\",digits)       \n",
    "else:\n",
    "    print(\"It is even number\") \n",
    "    n=num\n",
    "    rev=0\n",
    "    while(n>0):\n",
    "        rev=rev*10+n%10\n",
    "        n=int(n/10)\n",
    "    if num==rev:\n",
    "        print(\"It is palindrome\")\n",
    "    else:\n",
    "        print(\"It is not palindrome\")    "
   ]
  },
  {
   "cell_type": "code",
   "execution_count": null,
   "metadata": {},
   "outputs": [],
   "source": [
    "   "
   ]
  }
 ],
 "metadata": {
  "kernelspec": {
   "display_name": "Python 3 (ipykernel)",
   "language": "python",
   "name": "python3"
  },
  "language_info": {
   "codemirror_mode": {
    "name": "ipython",
    "version": 3
   },
   "file_extension": ".py",
   "mimetype": "text/x-python",
   "name": "python",
   "nbconvert_exporter": "python",
   "pygments_lexer": "ipython3",
   "version": "3.10.4"
  },
  "orig_nbformat": 4
 },
 "nbformat": 4,
 "nbformat_minor": 2
}
