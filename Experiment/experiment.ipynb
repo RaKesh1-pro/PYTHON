{
 "cells": [
  {
   "attachments": {},
   "cell_type": "markdown",
   "metadata": {},
   "source": [
    "## Get an integer input from a user. If the number is odd, then find the factorial of the number and find the number of digits in the factorial of the number. If the number is even, then check if the given number is a palindrome or not.\n",
    "\n",
    "\n",
    "\n"
   ]
  },
  {
   "cell_type": "code",
   "execution_count": 12,
   "metadata": {},
   "outputs": [
    {
     "name": "stdout",
     "output_type": "stream",
     "text": [
      "The number is: 242\n",
      "It is even number\n",
      "It is palindrome\n"
     ]
    }
   ],
   "source": [
    "num=int(input(\"Enter the number:\"))\n",
    "print(\"The number is:\",num)\n",
    "digits=0\n",
    "fact=1\n",
    "if(num%2!=0):\n",
    "    print(\"Its odd number\")\n",
    "    for i in range(1,num+1):\n",
    "            fact=i*fact\n",
    "    print(\"The factorial of given number is:\",fact)\n",
    "    while(fact>0):\n",
    "        fact=int(fact/10)\n",
    "        digits=digits+1\n",
    "    print(\"The number of digits in factorial is:\",digits)       \n",
    "else:\n",
    "    print(\"It is even number\") \n",
    "    n=num\n",
    "    rev=0\n",
    "    while(n>0):\n",
    "        rev=rev*10+n%10\n",
    "        n=int(n/10)\n",
    "    if num==rev:\n",
    "        print(\"It is palindrome\")\n",
    "    else:\n",
    "        print(\"It is not palindrome\")    "
   ]
  },
  {
   "attachments": {},
   "cell_type": "markdown",
   "metadata": {},
   "source": [
    "## Given two strings, PRINT (YES or NO) whether the second string can be obtained from the first by deletion of none, one or more characters\n",
    "\n"
   ]
  },
  {
   "cell_type": "code",
   "execution_count": 10,
   "metadata": {},
   "outputs": [
    {
     "name": "stdout",
     "output_type": "stream",
     "text": [
      "rakesh\n",
      "rak\n",
      "Yes\n"
     ]
    }
   ],
   "source": [
    "str1=str(input(\"Enter the first string:\"))\n",
    "str2=str(input(\"Enter the second string:\"))\n",
    "print(str1)\n",
    "print(str2)\n",
    "i=0\n",
    "j=0\n",
    "while i<(len(str1)) and j<(len(str2)):\n",
    "    if str1[i]==str2[j]:\n",
    "        i=i+1\n",
    "        j=j+1\n",
    "    else:\n",
    "        i=i+1    \n",
    "if j==len(str2):\n",
    "    print(\"Yes\")\n",
    "else:\n",
    "    print(\"No\")          \n"
   ]
  },
  {
   "attachments": {},
   "cell_type": "markdown",
   "metadata": {},
   "source": [
    "## List And Its operations-positive and negative indexing"
   ]
  },
  {
   "cell_type": "code",
   "execution_count": 3,
   "metadata": {},
   "outputs": [
    {
     "name": "stdout",
     "output_type": "stream",
     "text": [
      "Original list:['45', '65', '85', '94', '12']\n",
      "The required Negative index:- 3\n",
      "The required Positive index: 2\n"
     ]
    }
   ],
   "source": [
    "n=int(input(\"Enter number of elements in list:\"))\n",
    "l=list()\n",
    "for i in range(0,n):\n",
    "    e=input(\"Enter the value:\")\n",
    "    l.append(e)\n",
    "print(\"Original list:\"+str(l)) \n",
    "k=input(\"Enter the elments to be searched in the list:\")\n",
    "res=len(l)-l.index(k)\n",
    "print(\"The required Negative index:-\",str(res))\n",
    "print(\"The required Positive index:\",l.index(k))\n",
    " \n"
   ]
  },
  {
   "attachments": {},
   "cell_type": "markdown",
   "metadata": {},
   "source": [
    "## Check for ascending order in list:"
   ]
  },
  {
   "cell_type": "code",
   "execution_count": 6,
   "metadata": {},
   "outputs": [
    {
     "name": "stdout",
     "output_type": "stream",
     "text": [
      "Original list:['12', '15', '54', '12', '78']\n",
      "No the list is not in ascending order.\n"
     ]
    }
   ],
   "source": [
    "n=int(input(\"Enter number of elements in list\"))\n",
    "l=list()\n",
    "for i in range(0,n):\n",
    "    e=input(\"Enter the value:\")\n",
    "    l.append(e)\n",
    "print(\"Original list:\"+str(l))    \n",
    "\n",
    "flag=0\n",
    "ll=l[:]\n",
    "ll.sort()\n",
    "if(ll==l):\n",
    "    falg=1\n",
    "\n",
    "if(flag):\n",
    "    print(\"Yes the list is in ascending order.\")\n",
    "else:\n",
    "    print(\"No the list is not in ascending order.\")       "
   ]
  },
  {
   "attachments": {},
   "cell_type": "markdown",
   "metadata": {},
   "source": [
    "## Tupples and its operations- convertinf tuple to a string"
   ]
  },
  {
   "cell_type": "code",
   "execution_count": 15,
   "metadata": {},
   "outputs": [
    {
     "name": "stdout",
     "output_type": "stream",
     "text": [
      "The string is   4754781265\n"
     ]
    }
   ],
   "source": [
    "def str1(t):\n",
    " res = ' '\n",
    " for item in t:\n",
    "  res = res + item\n",
    " return res\n",
    "n=int(input(\"Enter number of elements in tuple \"))\n",
    "l=list()\n",
    "for i in range(0,n):\n",
    " e=input(\"enter the value\")\n",
    " l.append(e)\n",
    "a=tuple(l)\n",
    "print(\"The string is \", str1(a))"
   ]
  },
  {
   "attachments": {},
   "cell_type": "markdown",
   "metadata": {},
   "source": [
    "## TUPLES AND ITS OPERATATIONS – REVERSE A TUPLE"
   ]
  },
  {
   "cell_type": "code",
   "execution_count": 22,
   "metadata": {},
   "outputs": [
    {
     "name": "stdout",
     "output_type": "stream",
     "text": [
      "('22', '63', '52', '78', '45')\n"
     ]
    }
   ],
   "source": [
    "def rev(t):\n",
    " res = ()\n",
    " for k in reversed(t):\n",
    "  res = res + (k,)\n",
    " return res\n",
    "n=int(input(\"Enter number of elements in tuple \"))\n",
    "l=list()\n",
    "for i in range(0,n):\n",
    " e=input(\"Enter the value: \")\n",
    " l.append(e)\n",
    "a=tuple(l)\n",
    "print(rev(a))"
   ]
  },
  {
   "attachments": {},
   "cell_type": "markdown",
   "metadata": {},
   "source": [
    "## PYTHON PROGRAM TO CHECK IF A SET IS A SUBSET OF ANOTHER SET"
   ]
  },
  {
   "cell_type": "code",
   "execution_count": 23,
   "metadata": {},
   "outputs": [
    {
     "name": "stdout",
     "output_type": "stream",
     "text": [
      "x:  {33, 99, 'mango', 45, 'apple'}\n",
      "y:  {'mango', 33, 'orange'}\n",
      "z:  {'mango'} \n",
      "\n",
      "Checking whether X is subset of Y...... \n",
      "\n",
      "The set X is not the subset of set Y \n",
      "\n",
      "Checking whether Y is subset of X...... \n",
      "\n",
      "The set Y is not the subset of set X\n",
      "\n",
      "Checking whether Y is subset of Z...... \n",
      "\n",
      "The set Y is not the subset of set Z\n",
      "\n",
      "Checking whether Z is subset of Y...... \n",
      "\n",
      "The set Z is the subset of set Y\n",
      "\n"
     ]
    }
   ],
   "source": [
    "setx = set([\"apple\", \"mango\",45,33,99])\n",
    "sety = set([\"mango\", \"orange\",33])\n",
    "setz = set([\"mango\"])\n",
    "print(\"x: \",setx)\n",
    "print(\"y: \",sety)\n",
    "print(\"z: \",setz,\"\\n\")\n",
    "print(\"Checking whether X is subset of Y...... \\n\")\n",
    "if(setx.issubset(sety)==True):\n",
    " print(\"The set X is the subset of set Y \\n\")\n",
    "else:\n",
    " print(\"The set X is not the subset of set Y \\n\")\n",
    "print(\"Checking whether Y is subset of X...... \\n\")\n",
    "if(sety.issubset(setx)==True):\n",
    " print(\"The set Y is the subset of set X\\n\")\n",
    "else:\n",
    " print(\"The set Y is not the subset of set X\\n\")\n",
    "print(\"Checking whether Y is subset of Z...... \\n\")\n",
    "if(sety.issubset(setz)==True):\n",
    " print(\"The set Y is the subset of set Z\\n\")\n",
    "else:\n",
    " print(\"The set Y is not the subset of set Z\\n\")\n",
    "print(\"Checking whether Z is subset of Y...... \\n\")\n",
    "if(setz.issubset(sety)==True):\n",
    " print(\"The set Z is the subset of set Y\\n\")\n",
    "else:\n",
    " print(\"The set Z is not the subset of set Y\\n\")"
   ]
  },
  {
   "attachments": {},
   "cell_type": "markdown",
   "metadata": {},
   "source": [
    "## PYTHON PROGRAM TO ITERATE OVER DICTIONARIES USING FOR LOOP"
   ]
  },
  {
   "cell_type": "code",
   "execution_count": 26,
   "metadata": {},
   "outputs": [
    {
     "name": "stdout",
     "output_type": "stream",
     "text": [
      "Dictionary elements are:\n",
      "\n",
      "47 52\n",
      "99 36\n",
      "25 45\n",
      "78 55\n",
      "45 32\n"
     ]
    }
   ],
   "source": [
    "color = {}\n",
    "n = int (input(\"Enter the number of elements:\"))\n",
    "for i in range(n):\n",
    " key = input(\"Enter the key: \")\n",
    " value = input(\"Enter the value: \")\n",
    " color[key]=value\n",
    "print(\"Dictionary elements are:\\n\")\n",
    "for key,value in color.items():\n",
    " print(key,value)"
   ]
  },
  {
   "attachments": {},
   "cell_type": "markdown",
   "metadata": {},
   "source": [
    "## NUMPY PROGRAM TO CONVERT A LIST OF NUMERIC VALUE INTO A ONE-DIMENSIONAL NUMPY ARRAY"
   ]
  },
  {
   "cell_type": "code",
   "execution_count": 29,
   "metadata": {},
   "outputs": [
    {
     "name": "stdout",
     "output_type": "stream",
     "text": [
      "Original List: [45.0, 58.0, 77.0, 36.0, 98.0]\n",
      "One-dimensional NumPy array:  [45. 58. 77. 36. 98.]\n"
     ]
    }
   ],
   "source": [
    "\n",
    "import numpy as np\n",
    "l = list(map(float, input(\"Type number with space: \").split()))\n",
    "print(\"Original List:\",l)\n",
    "a = np.array(l)\n",
    "print(\"One-dimensional NumPy array: \",a)"
   ]
  },
  {
   "cell_type": "code",
   "execution_count": null,
   "metadata": {},
   "outputs": [],
   "source": []
  }
 ],
 "metadata": {
  "kernelspec": {
   "display_name": "Python 3 (ipykernel)",
   "language": "python",
   "name": "python3"
  },
  "language_info": {
   "codemirror_mode": {
    "name": "ipython",
    "version": 3
   },
   "file_extension": ".py",
   "mimetype": "text/x-python",
   "name": "python",
   "nbconvert_exporter": "python",
   "pygments_lexer": "ipython3",
   "version": "3.10.8"
  },
  "orig_nbformat": 4
 },
 "nbformat": 4,
 "nbformat_minor": 2
}
