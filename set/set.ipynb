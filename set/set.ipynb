{
 "cells": [
  {
   "attachments": {},
   "cell_type": "markdown",
   "metadata": {},
   "source": [
    "## Write a program that generate a set of number that are prime numbers (1-50) and another set of numbers divisible by 5 (1-50),then apply union, intersection, difference and symmetric difference on the resultant sets\n",
    "\n"
   ]
  },
  {
   "cell_type": "code",
   "execution_count": null,
   "metadata": {},
   "outputs": [],
   "source": [
    "def is_prime(n):\n",
    "    for i in range(2,n):\n",
    "        if(n%i == 0):\n",
    "            return False\n",
    "\n",
    "\n",
    "prime_numbers = {num for num in range(1, 51) if (is_prime(num) != False)}\n",
    "\n",
    "\n",
    "divisible_by_5 = {num for num in range(1, 51) if num % 5 == 0}\n",
    "\n",
    "\n",
    "union = prime_numbers.union(divisible_by_5)\n",
    "intersection = prime_numbers.intersection(divisible_by_5)\n",
    "difference = prime_numbers.difference(divisible_by_5)\n",
    "symmetric_difference = prime_numbers.symmetric_difference(divisible_by_5)\n",
    "\n",
    "\n",
    "print(\"Prime Numbers:\", prime_numbers)\n",
    "print(\"Numbers Divisible by 5:\", divisible_by_5)\n",
    "print(\"Union:\", union)\n",
    "print(\"Intersection:\", intersection)\n",
    "print(\"Difference:\", difference)\n",
    "print(\"Symmetric Difference:\", symmetric_difference)"
   ]
  },
  {
   "cell_type": "code",
   "execution_count": null,
   "metadata": {},
   "outputs": [],
   "source": []
  }
 ],
 "metadata": {
  "language_info": {
   "name": "python"
  },
  "orig_nbformat": 4
 },
 "nbformat": 4,
 "nbformat_minor": 2
}
