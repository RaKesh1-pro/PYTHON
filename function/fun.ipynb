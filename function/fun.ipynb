{
 "cells": [
  {
   "attachments": {},
   "cell_type": "markdown",
   "metadata": {},
   "source": [
    "## Write a python code which checks whether the input number is a Prefect Square of not using a function.\n"
   ]
  },
  {
   "cell_type": "code",
   "execution_count": 25,
   "metadata": {},
   "outputs": [
    {
     "name": "stdout",
     "output_type": "stream",
     "text": [
      "5  is not a perfect square\n"
     ]
    }
   ],
   "source": [
    "       import math as m\n",
    "def prefect_sqrt(n):\n",
    "    sq = int(m.sqrt(n))\n",
    "    if sq*sq == n:\n",
    "      return 1\n",
    "n = int(input(\"Enter the number: \"))\n",
    "check = prefect_sqrt(n)\n",
    "if check == 1:\n",
    "    print(n,\" is a perfect square\")\n",
    "else:\n",
    "    print(n,\" is not a perfect square\")"
   ]
  },
  {
   "attachments": {},
   "cell_type": "markdown",
   "metadata": {},
   "source": [
    "## Write a Python function that takes base and power as arguments and calculates the power of numbers. \n",
    "Sample Input:\n",
    "To Calculate 5 to the power of 3 then, enter the input as\n",
    "Base : 5\n",
    "Power : 3\n",
    "Sample Output:\n",
    "125\n"
   ]
  },
  {
   "cell_type": "code",
   "execution_count": 15,
   "metadata": {},
   "outputs": [
    {
     "ename": "NameError",
     "evalue": "name 'ans' is not defined",
     "output_type": "error",
     "traceback": [
      "\u001b[0;31m---------------------------------------------------------------------------\u001b[0m",
      "\u001b[0;31mNameError\u001b[0m                                 Traceback (most recent call last)",
      "Cell \u001b[0;32mIn[15], line 5\u001b[0m\n\u001b[1;32m      3\u001b[0m     \u001b[39mreturn\u001b[39;00m\n\u001b[1;32m      4\u001b[0m power(\u001b[39m5\u001b[39m,\u001b[39m3\u001b[39m)\n\u001b[0;32m----> 5\u001b[0m \u001b[39mprint\u001b[39m(ans)\n",
      "\u001b[0;31mNameError\u001b[0m: name 'ans' is not defined"
     ]
    }
   ],
   "source": [
    "def power(base,power):\n",
    "    ans=base**power\n",
    "    return\n",
    "power(5,3)\n",
    "print(ans)\n",
    "\n",
    "    "
   ]
  },
  {
   "cell_type": "code",
   "execution_count": 12,
   "metadata": {},
   "outputs": [
    {
     "name": "stdout",
     "output_type": "stream",
     "text": [
      "Rakesh\n",
      "10\n"
     ]
    }
   ],
   "source": [
    "print(\"Rakesh\")\n",
    "a=5\n",
    "b=5\n",
    "c=a+b\n",
    "if c>a:\n",
    "    print(c)\n"
   ]
  },
  {
   "cell_type": "code",
   "execution_count": null,
   "metadata": {},
   "outputs": [],
   "source": []
  }
 ],
 "metadata": {
  "kernelspec": {
   "display_name": "Python 3 (ipykernel)",
   "language": "python",
   "name": "python3"
  },
  "language_info": {
   "codemirror_mode": {
    "name": "ipython",
    "version": 3
   },
   "file_extension": ".py",
   "mimetype": "text/x-python",
   "name": "python",
   "nbconvert_exporter": "python",
   "pygments_lexer": "ipython3",
   "version": "3.10.4"
  },
  "orig_nbformat": 4
 },
 "nbformat": 4,
 "nbformat_minor": 2
}
