{
 "cells": [
  {
   "attachments": {},
   "cell_type": "markdown",
   "metadata": {},
   "source": [
    "## Write a python code which checks whether the input number is a Prefect Square of not using a function.\n"
   ]
  },
  {
   "cell_type": "code",
   "execution_count": 1,
   "metadata": {},
   "outputs": [
    {
     "name": "stdout",
     "output_type": "stream",
     "text": [
      "25  is a perfect square\n"
     ]
    }
   ],
   "source": [
    "       import math as m\n",
    "def prefect_sqrt(n):\n",
    "    sq = int(m.sqrt(n))\n",
    "    if sq*sq == n:\n",
    "      return 1\n",
    "n = int(input(\"Enter the number: \"))\n",
    "check = prefect_sqrt(n)\n",
    "if check == 1:\n",
    "    print(n,\" is a perfect square\")\n",
    "else:\n",
    "    print(n,\" is not a perfect square\")"
   ]
  },
  {
   "attachments": {},
   "cell_type": "markdown",
   "metadata": {},
   "source": [
    "## Write a Python code with the function interest_calculation() which calculates the simple interest. The program should take the name of the customer, age of the customer, gender (‘M’ or ‘F’), principal amount (P), and number of years (N) as input.If the customer is a senior citizen, fix the rate of interest (R) at 12%, if the customer is “female,” fix the rate of interest (R) at 10%; and for others, fix the rate of interest (R) at 9%.\n"
   ]
  },
  {
   "cell_type": "code",
   "execution_count": 8,
   "metadata": {},
   "outputs": [
    {
     "name": "stdout",
     "output_type": "stream",
     "text": [
      "The simple interest is: 2000.0\n"
     ]
    }
   ],
   "source": [
    "def si(P,T,R):\n",
    "    return(P*N*R)/100\n",
    "name=(input(\"Enter the name:\"))\n",
    "age=int(input(\"Enter the age of person:\"))\n",
    "gender=(input(\"Enter the gender of person:\"))\n",
    "P=int(input(\"Enter the amount:\"))\n",
    "N=int(input(\"Enter the numbers of year:\"))\n",
    "if(age>60):\n",
    "    print(\"The simple interest is:\",si(P,N,12))\n",
    "elif(gender==\"F\"):\n",
    "    print(\"The simple interest is:\",si(P,N,10)) \n",
    "else:\n",
    "    print(\"The simple interst is:\",si(P,N,9))    \n",
    "\n"
   ]
  },
  {
   "attachments": {},
   "cell_type": "markdown",
   "metadata": {},
   "source": [
    "## The below picture includes five geometrical shapes. You have to write Python code that includes five different functions: sphere(), cylinder(), cone(), rectangular_prism(), and triangular_prism(). You should get the respective values in the formula for the shapes, and they should be passed to the function as a parameter. If any of the shapes include \"π” (pi), then pi value should be passed as the default argument, and functions should return the SURFACE AREA AND VOLUME of the respective geometrical shapes. The formula for calculating the surface area and volume of the shapes is given in \n"
   ]
  },
  {
   "cell_type": "code",
   "execution_count": 11,
   "metadata": {},
   "outputs": [
    {
     "name": "stdout",
     "output_type": "stream",
     "text": [
      "1.Sphere\n",
      "2.Cylinder\n",
      "3.Cone\n",
      "4.Rectangular Prism\n",
      "5.Triangular Prism\n",
      "Surface Area = 112.0 and Volume of Triangular Prism = 80.0\n"
     ]
    }
   ],
   "source": [
    "def sphere(r,pi=3.14):\n",
    "    sa = 4*pi*r**2\n",
    "    v = (4/3)*pi*r**3\n",
    "    return sa,v\n",
    "\n",
    "def cylinder(r,h,pi=3.14):\n",
    "    sa = 2*pi*r**2 + 2*pi*r*h\n",
    "    v = pi*r**2*h\n",
    "    return sa,v\n",
    "\n",
    "def cone(r,h,s,pi=3.14):\n",
    "    sa = pi*r*s + pi*r**2\n",
    "    v = (1/3)*pi*r**2*h\n",
    "    return sa,v\n",
    "\n",
    "def rect_prism(l,h,w):\n",
    "    sa = 2*(l*w+l*h+w*h)\n",
    "    v = l*w*h\n",
    "    return sa,v\n",
    "\n",
    "def tri_prism(l,b,h,s):\n",
    "    sa = b*h+2*l*s+l*b\n",
    "    v = (1/2) * b * l * h\n",
    "    return sa,v\n",
    "\n",
    "print(\"1.Sphere\\n2.Cylinder\\n3.Cone\\n4.Rectangular Prism\\n5.Triangular Prism\")\n",
    "ch = int(input(\"Enter your choice : \"))\n",
    "if ch == 1:\n",
    "    r = float(input(\"Enter the radius: \"))\n",
    "    s,v = sphere(r)\n",
    "    print(\"Surface Area =\",s,\"and Volume of Sphere =\",v)\n",
    "elif ch == 2:\n",
    "    r = float(input(\"Enter the radius: \"))\n",
    "    h = float(input(\"Enter the height: \"))\n",
    "    s,v = cylinder(r,h)\n",
    "    print(\"Surface Area =\",s,\"and Volume of Cylinder =\",v)\n",
    "elif ch == 3:\n",
    "    r = float(input(\"Enter the radius: \"))\n",
    "    h = float(input(\"Enter the height: \"))\n",
    "    s = float(input(\"Enter the side: \"))\n",
    "    s,v = cone(r,h,s)\n",
    "    print(\"Surface Area =\",s,\"and Volume of cone =\",v)\n",
    "elif ch == 4:\n",
    "    l = float(input(\"Enter the length: \"))\n",
    "    h = float(input(\"Enter the height: \"))\n",
    "    w = float(input(\"Enter the width: \"))\n",
    "    s,v = rect_prism(l,h,w)\n",
    "    print(\"Surface Area =\",s,\"and Volume of Rectangular Prism =\",v)\n",
    "elif ch == 5:\n",
    "    l = float(input(\"Enter the length: \"))\n",
    "    h = float(input(\"Enter the height: \"))\n",
    "    b = float(input(\"Enter the base: \"))\n",
    "    s = float(input(\"Enter the side: \"))\n",
    "    s,v = tri_prism(l,b,h,s)\n",
    "    print(\"Surface Area =\",s,\"and Volume of Triangular Prism =\",v)\n",
    "else:\n",
    "    print(\"Invalid Input\")\n",
    "    "
   ]
  },
  {
   "cell_type": "code",
   "execution_count": null,
   "metadata": {},
   "outputs": [],
   "source": [
    "\n",
    "\n",
    "\n",
    "\n",
    "\n",
    "def spher()\n",
    "\n"
   ]
  },
  {
   "attachments": {},
   "cell_type": "markdown",
   "metadata": {},
   "source": [
    "## Write a Python code to find the nth term of the Fibonacci series using RECURSION.\n"
   ]
  },
  {
   "cell_type": "code",
   "execution_count": 22,
   "metadata": {},
   "outputs": [
    {
     "name": "stdout",
     "output_type": "stream",
     "text": [
      "6 th term of fibonacci series is:  8\n"
     ]
    }
   ],
   "source": [
    "def fibo(n):\n",
    "    if n==0:\n",
    "        return 0\n",
    "    elif n==1:\n",
    "        return n\n",
    "    else:\n",
    "        return fibo(n-1)+fibo(n-2)\n",
    "n=int(input(\"Enter the number:\"))\n",
    "print(n,\"th term of fibonacci series is: \",fibo(n))       "
   ]
  },
  {
   "attachments": {},
   "cell_type": "markdown",
   "metadata": {},
   "source": [
    "## Write a Python function that takes base and power as arguments and calculates the power of numbers. \n"
   ]
  },
  {
   "cell_type": "code",
   "execution_count": null,
   "metadata": {},
   "outputs": [],
   "source": [
    "def power(base,p):\n",
    "    if pow==1:\n",
    "        return base\n",
    "    else:\n",
    "        return (base*power(base,p-1))\n",
    "base=int(input(\"Enter the base value\"))\n",
    "p=int(input(\"Enter the power value\"))\n",
    "print('base', \"to the power\",p,\"is\",base*power(base,p-1))           "
   ]
  },
  {
   "cell_type": "code",
   "execution_count": null,
   "metadata": {},
   "outputs": [],
   "source": []
  },
  {
   "cell_type": "code",
   "execution_count": null,
   "metadata": {},
   "outputs": [],
   "source": []
  }
 ],
 "metadata": {
  "kernelspec": {
   "display_name": "Python 3 (ipykernel)",
   "language": "python",
   "name": "python3"
  },
  "language_info": {
   "codemirror_mode": {
    "name": "ipython",
    "version": 3
   },
   "file_extension": ".py",
   "mimetype": "text/x-python",
   "name": "python",
   "nbconvert_exporter": "python",
   "pygments_lexer": "ipython3",
   "version": "3.10.4"
  },
  "orig_nbformat": 4
 },
 "nbformat": 4,
 "nbformat_minor": 2
}
