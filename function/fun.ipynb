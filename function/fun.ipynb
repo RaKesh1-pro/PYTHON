{
 "cells": [
  {
   "attachments": {},
   "cell_type": "markdown",
   "metadata": {},
   "source": [
    "## Write a python code which checks whether the input number is a Prefect Square of not using a function.\n"
   ]
  },
  {
   "cell_type": "code",
   "execution_count": null,
   "metadata": {},
   "outputs": [
    {
     "name": "stdout",
     "output_type": "stream",
     "text": [
      "25  is a perfect square\n"
     ]
    }
   ],
   "source": [
    "       import math as m\n",
    "def prefect_sqrt(n):\n",
    "    sq = int(m.sqrt(n))\n",
    "    if sq*sq == n:\n",
    "      return 1\n",
    "n = int(input(\"Enter the number: \"))\n",
    "check = prefect_sqrt(n)\n",
    "if check == 1:\n",
    "    print(n,\" is a perfect square\")\n",
    "else:\n",
    "    print(n,\" is not a perfect square\")"
   ]
  },
  {
   "attachments": {},
   "cell_type": "markdown",
   "metadata": {},
   "source": [
    "## Write a Python code with the function interest_calculation() which calculates the simple interest. The program should take the name of the customer, age of the customer, gender (‘M’ or ‘F’), principal amount (P), and number of years (N) as input.If the customer is a senior citizen, fix the rate of interest (R) at 12%, if the customer is “female,” fix the rate of interest (R) at 10%; and for others, fix the rate of interest (R) at 9%.\n"
   ]
  },
  {
   "cell_type": "code",
   "execution_count": null,
   "metadata": {},
   "outputs": [],
   "source": [
    "def si(P,T,R):\n",
    "    return(P*N*R)/100\n",
    "name=(input(\"Enter the name:\"))\n",
    "age=(input(\"Enter the age of person:\"))\n",
    "gender(input(\"Enter the gender of person:\"))\n",
    "P=(input(\"Enter the amount:\"))\n",
    "N=(input(\"Enter the numbers of year:\"))\n",
    "if(age>60):\n",
    "    print(\"The simple interest is:\",si(P,T,12))\n",
    "elif(gender==\"F\"):\n",
    "    print(\"The simple interest is:\",si(P,T,10)) \n",
    "else:\n",
    "    print(\"The simple interst is:\",si(P,T,9))    \n",
    "\n"
   ]
  },
  {
   "cell_type": "code",
   "execution_count": null,
   "metadata": {},
   "outputs": [],
   "source": [
    "print(\"Rakesh\")"
   ]
  },
  {
   "cell_type": "code",
   "execution_count": null,
   "metadata": {},
   "outputs": [],
   "source": []
  }
 ],
 "metadata": {
  "kernelspec": {
   "display_name": "Python 3 (ipykernel)",
   "language": "python",
   "name": "python3"
  },
  "language_info": {
   "codemirror_mode": {
    "name": "ipython",
    "version": 3
   },
   "file_extension": ".py",
   "mimetype": "text/x-python",
   "name": "python",
   "nbconvert_exporter": "python",
   "pygments_lexer": "ipython3",
   "version": "3.10.4"
  },
  "orig_nbformat": 4
 },
 "nbformat": 4,
 "nbformat_minor": 2
}
