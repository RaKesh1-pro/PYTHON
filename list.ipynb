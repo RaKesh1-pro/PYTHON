{
 "cells": [
  {
   "attachments": {},
   "cell_type": "markdown",
   "metadata": {},
   "source": [
    "## Write a python program which reads “n” number of integers from the user and generates a separate list containing even and odd numbers.\n",
    "\n"
   ]
  },
  {
   "attachments": {},
   "cell_type": "markdown",
   "metadata": {},
   "source": [
    "n=int(input(\"Enter the number of inters to be entered\"))\n",
    "l=[]\n",
    "for i in range(n):\n",
    "num=int(input)\n",
    "print(l.append(num))\n",
    "\n"
   ]
  },
  {
   "cell_type": "markdown",
   "metadata": {},
   "source": []
  }
 ],
 "metadata": {
  "language_info": {
   "name": "python"
  },
  "orig_nbformat": 4
 },
 "nbformat": 4,
 "nbformat_minor": 2
}
