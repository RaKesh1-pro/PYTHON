{
 "cells": [
  {
   "attachments": {},
   "cell_type": "markdown",
   "id": "36a8221a",
   "metadata": {},
   "source": [
    "## Write a program to display the count of even and odd numbers in a given range.Sample InputStart: 20End : 50(inclusive of 20 and 50)Sample Output:Even : 16 Odd : 15\n"
   ]
  },
  {
   "cell_type": "code",
   "execution_count": 15,
   "id": "e2beb5bc",
   "metadata": {},
   "outputs": [
    {
     "name": "stdout",
     "output_type": "stream",
     "text": [
      "Even: 16\n",
      "Odd: 15\n"
     ]
    }
   ],
   "source": [
    "a=0\n",
    "b=0\n",
    "for i in range(20,51):\n",
    "    if(i%2==0):\n",
    "        a+=1\n",
    "    if(i%2!=0):\n",
    "        b+=1\n",
    "print(\"Even:\",a)\n",
    "print(\"Odd:\",b)\n",
    "        \n",
    "        "
   ]
  },
  {
   "attachments": {},
   "cell_type": "markdown",
   "id": "a54a8782",
   "metadata": {},
   "source": [
    "## Write a program to display the multiplication table as below \n"
   ]
  },
  {
   "cell_type": "code",
   "execution_count": 2,
   "id": "121ebc4d",
   "metadata": {},
   "outputs": [
    {
     "name": "stdout",
     "output_type": "stream",
     "text": [
      "5 x 1 = 5\n",
      "5 x 2 = 10\n",
      "5 x 3 = 15\n",
      "5 x 4 = 20\n",
      "5 x 5 = 25\n",
      "5 x 6 = 30\n",
      "5 x 7 = 35\n",
      "5 x 8 = 40\n",
      "5 x 9 = 45\n",
      "5 x 10 = 50\n"
     ]
    }
   ],
   "source": [
    "num=int(input(\"Enter the number:\"))\n",
    "for i in range(1,11):\n",
    "    print(num,'x',i,'=',i*num)"
   ]
  },
  {
   "attachments": {},
   "cell_type": "markdown",
   "id": "0e1dd193",
   "metadata": {},
   "source": [
    "## Write a program to display the multiplication table as below \n"
   ]
  },
  {
   "cell_type": "code",
   "execution_count": 3,
   "id": "bdb85c2b",
   "metadata": {},
   "outputs": [
    {
     "name": "stdout",
     "output_type": "stream",
     "text": [
      "5 x 1 = 5\n",
      "5 x 2 = 10\n",
      "5 x 3 = 15\n",
      "5 x 4 = 20\n",
      "5 x 5 = 25\n",
      "5 x 6 = 30\n",
      "5 x 7 = 35\n",
      "5 x 8 = 40\n",
      "5 x 9 = 45\n",
      "5 x 10 = 50\n",
      "6 x 1 = 6\n",
      "6 x 2 = 12\n",
      "6 x 3 = 18\n",
      "6 x 4 = 24\n",
      "6 x 5 = 30\n",
      "6 x 6 = 36\n",
      "6 x 7 = 42\n",
      "6 x 8 = 48\n",
      "6 x 9 = 54\n",
      "6 x 10 = 60\n",
      "7 x 1 = 7\n",
      "7 x 2 = 14\n",
      "7 x 3 = 21\n",
      "7 x 4 = 28\n",
      "7 x 5 = 35\n",
      "7 x 6 = 42\n",
      "7 x 7 = 49\n",
      "7 x 8 = 56\n",
      "7 x 9 = 63\n",
      "7 x 10 = 70\n",
      "8 x 1 = 8\n",
      "8 x 2 = 16\n",
      "8 x 3 = 24\n",
      "8 x 4 = 32\n",
      "8 x 5 = 40\n",
      "8 x 6 = 48\n",
      "8 x 7 = 56\n",
      "8 x 8 = 64\n",
      "8 x 9 = 72\n",
      "8 x 10 = 80\n"
     ]
    }
   ],
   "source": [
    "for i in range(5,9):\n",
    "    for j in range(1,11):\n",
    "        print(i,'x',j,'=',i*j)"
   ]
  },
  {
   "attachments": {},
   "cell_type": "markdown",
   "id": "fa3197ba",
   "metadata": {},
   "source": [
    "\n",
    "## Write a program to display the multiplication table as below with a given rangeSample InputStart Table : 5End Table: 8Sample Output:5 * 1 = 5..5 * 5 = 25. 6 * 1 = ...6 * 6 = 36.7 * 1=7..7 * 7 =49\n"
   ]
  },
  {
   "cell_type": "code",
   "execution_count": 4,
   "id": "6ad1cbd9",
   "metadata": {},
   "outputs": [
    {
     "name": "stdout",
     "output_type": "stream",
     "text": [
      "5 x 1 = 5\n",
      "5 x 2 = 10\n",
      "5 x 3 = 15\n",
      "5 x 4 = 20\n",
      "5 x 5 = 25\n",
      "6 x 1 = 6\n",
      "6 x 2 = 12\n",
      "6 x 3 = 18\n",
      "6 x 4 = 24\n",
      "6 x 5 = 30\n",
      "6 x 6 = 36\n",
      "7 x 1 = 7\n",
      "7 x 2 = 14\n",
      "7 x 3 = 21\n",
      "7 x 4 = 28\n",
      "7 x 5 = 35\n",
      "7 x 6 = 42\n",
      "7 x 7 = 49\n"
     ]
    }
   ],
   "source": [
    " for i in range(5,8):\n",
    "    for j in range(1,11):\n",
    "        print(i,'x',j,'=',i*j)\n",
    "        if(i==j):\n",
    "            break  "
   ]
  },
  {
   "attachments": {},
   "cell_type": "markdown",
   "id": "69658357",
   "metadata": {},
   "source": [
    "## Write a program that displays a temperature conversion table  for degrees Celsius and degrees Fahrenheit. The table should include rows for all temperatures between 0 and 100 degrees Celsius that are multiples of 10 degrees Celsius. Include appropriate headings on your columns. "
   ]
  },
  {
   "cell_type": "code",
   "execution_count": 16,
   "id": "7c0d9b64",
   "metadata": {},
   "outputs": [
    {
     "name": "stdout",
     "output_type": "stream",
     "text": [
      "Celcius\tFahrenheit\n",
      "0\t32.0\n",
      "10\t50.0\n",
      "20\t68.0\n",
      "30\t86.0\n",
      "40\t104.0\n",
      "50\t122.0\n",
      "60\t140.0\n",
      "70\t158.0\n",
      "80\t176.0\n",
      "90\t194.0\n"
     ]
    }
   ],
   "source": [
    "print(\"Celcius\\tFahrenheit\")\n",
    "for c in range(0,100,10):\n",
    "    f = c * (9/5) + 32\n",
    "    print(f\"{c}\\t{f}\") "
   ]
  },
  {
   "attachments": {},
   "cell_type": "markdown",
   "id": "1d9ee96a",
   "metadata": {},
   "source": [
    "## Write a program to display the Amstrong numbers in the given range\n",
    "Enter lower range: 100\n",
    "Enter upper range: 1000\n",
    "The armstrong numbers are: \n",
    "153\n",
    "370\n",
    "371\n",
    "407\n"
   ]
  },
  {
   "cell_type": "code",
   "execution_count": 18,
   "id": "32362010",
   "metadata": {},
   "outputs": [
    {
     "name": "stdout",
     "output_type": "stream",
     "text": [
      "153,370,371,407\n"
     ]
    }
   ],
   "source": [
    "for num in range(100,1000):\n",
    "    num_of_digits=len(str(num))\n",
    "    sum=0\n",
    "    tem=num\n",
    "    while(tem>0):\n",
    "        digit=tem%10\n",
    "        sum=sum+digit**num_of_digits\n",
    "        tem=tem//10\n",
    "    if(num==sum):\n",
    "        print(sum,end=\",\")\n",
    "print(\"\\b\")        \n",
    "        "
   ]
  },
  {
   "attachments": {},
   "cell_type": "markdown",
   "id": "6bf76629",
   "metadata": {},
   "source": [
    "## Write a program to accept the numbers continuously; when we enter\"-1” it should stop accepting the input and at the same time display the number of even numbers and odd numbers that were entered.\n",
    "Sample Input\n",
    "Enter the number = 56\n",
    "Enter the number = 5\n",
    "Enter the number = 26\n",
    "Enter the number = 45\n",
    "Enter the number = 13\n",
    "Enter the number = 11\n",
    "Enter the number = 16\n",
    "Enter the number = 19\n",
    "Enter the number = 48\n",
    "Enter the number = -1\n",
    "Sample Output\n",
    "Number of Even Numbers Entered = 4\n",
    "Number of Odd Numbers Entered = 5\n"
   ]
  },
  {
   "cell_type": "code",
   "execution_count": null,
   "id": "7995fa0e",
   "metadata": {},
   "outputs": [],
   "source": [
    "even_count = 0\n",
    "odd_count = 0\n",
    "\n",
    "while True:\n",
    "    number = int(input(\"Enter the number: \"))\n",
    "\n",
    "    if number == -1:\n",
    "        break\n",
    "\n",
    "    if number % 2 == 0:\n",
    "        even_count += 1\n",
    "    else:\n",
    "        odd_count += 1\n",
    "\n",
    "print(\"Number of Even Numbers Entered:\", even_count)\n",
    "print(\"Number of Odd Numbers Entered:\", odd_count)"
   ]
  },
  {
   "attachments": {},
   "cell_type": "markdown",
   "id": "e9b1c12f",
   "metadata": {},
   "source": [
    "## Write a program to display the factors of a given number.\n",
    "Sample Input:56,\n",
    "sample output:\n",
    "1, 2, 4, 7, 8, 14, 28, 56\n",
    "\n"
   ]
  },
  {
   "cell_type": "code",
   "execution_count": 9,
   "id": "b086adb7",
   "metadata": {},
   "outputs": [
    {
     "name": "stdout",
     "output_type": "stream",
     "text": [
      "1,2,4,7,8,14,28,56\n"
     ]
    }
   ],
   "source": [
    "\n",
    "number = int(input(\"Enter a number: \"))\n",
    "\n",
    "\n",
    "for i in range(1, number+1):\n",
    "    if number % i == 0:\n",
    "        print(i,end=\",\")\n",
    "print('\\b')\n"
   ]
  },
  {
   "attachments": {},
   "cell_type": "markdown",
   "id": "1ecfc289",
   "metadata": {},
   "source": [
    "## Write a program to display the prime in the given range. \n",
    "Sample Input\n",
    "1\n",
    "10\n",
    "Sample Output\n",
    "2 , 3 , 5 , 7\n"
   ]
  },
  {
   "cell_type": "code",
   "execution_count": 17,
   "id": "69eb397f",
   "metadata": {},
   "outputs": [
    {
     "name": "stdout",
     "output_type": "stream",
     "text": [
      "2,3,5,7\n"
     ]
    }
   ],
   "source": [
    "start = int(input(\"Enter the starting number: \"))\n",
    "end = int(input(\"Enter the ending number: \"))\n",
    "\n",
    "\n",
    "for number in range(start, end + 1):\n",
    "    if number > 1:\n",
    "        for i in range(2, number):\n",
    "            if (number % i) == 0:\n",
    "                break\n",
    "        else:\n",
    "            print(number,end=\",\")\n",
    "print('\\b')"
   ]
  },
  {
   "cell_type": "code",
   "execution_count": null,
   "id": "36e286f6",
   "metadata": {},
   "outputs": [],
   "source": []
  },
  {
   "cell_type": "code",
   "execution_count": null,
   "id": "211da6a7",
   "metadata": {},
   "outputs": [],
   "source": []
  }
 ],
 "metadata": {
  "kernelspec": {
   "display_name": "Python 3 (ipykernel)",
   "language": "python",
   "name": "python3"
  },
  "language_info": {
   "codemirror_mode": {
    "name": "ipython",
    "version": 3
   },
   "file_extension": ".py",
   "mimetype": "text/x-python",
   "name": "python",
   "nbconvert_exporter": "python",
   "pygments_lexer": "ipython3",
   "version": "3.10.4"
  }
 },
 "nbformat": 4,
 "nbformat_minor": 5
}
